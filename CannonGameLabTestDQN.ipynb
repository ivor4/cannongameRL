{
 "cells": [
  {
   "cell_type": "code",
   "execution_count": null,
   "id": "59574478-19a7-4e2a-9f00-df459dbc51dd",
   "metadata": {},
   "outputs": [],
   "source": [
    "import cannongame\n",
    "# Import environment base class for a wrapper \n",
    "from gymnasium import Env \n",
    "\n",
    "# Import the space shapes for the environment\n",
    "from gymnasium.spaces import Discrete, Box\n",
    "# Import numpy to calculate frame delta \n",
    "import numpy as np\n",
    "\n",
    "from stable_baselines3 import DQN\n",
    "\n",
    "from stable_baselines3.common.monitor import Monitor\n",
    "\n",
    "from stable_baselines3.common.evaluation import evaluate_policy\n",
    "\n",
    "from stable_baselines3.common.callbacks import BaseCallback\n",
    "\n",
    "import os\n",
    "\n",
    "from stable_baselines3.common.vec_env import DummyVecEnv, VecFrameStack, VecTransposeImage"
   ]
  },
  {
   "cell_type": "code",
   "execution_count": null,
   "id": "3e76f3ec-e9ea-4bd0-87cb-010f1746e26c",
   "metadata": {},
   "outputs": [],
   "source": [
    "LOG_DIR = './logs/'\n",
    "OPT_DIR = './models/'"
   ]
  },
  {
   "cell_type": "markdown",
   "id": "18ac283c-b644-49d3-8aeb-f26a81bc508e",
   "metadata": {},
   "source": [
    "# Normal Gaming"
   ]
  },
  {
   "cell_type": "code",
   "execution_count": null,
   "id": "1e870903-8c97-402f-b0ce-7555efd0bd5b",
   "metadata": {},
   "outputs": [],
   "source": [
    "import matplotlib.pyplot as plt\n",
    "game_instance = cannongame.GameInstance('Canyon game', cannongame.GAME_MODE_NORMAL, 'ai')\n",
    "\n",
    "game_instance.reset()\n",
    "\n",
    "count = 0\n",
    "\n",
    "while(game_instance.isRunning()):\n",
    "    retVal = game_instance.step()\n",
    "    #game_instance.render()\n",
    "\n",
    "    count +=1\n",
    "\n",
    "    if(count % 30 == 0):\n",
    "        #pass\n",
    "        plt.figure()\n",
    "        plt.imshow(retVal[0], cmap='gray') \n",
    "        plt.show()  # display it\n",
    "game_instance.close()\n",
    "\n",
    "\n"
   ]
  },
  {
   "cell_type": "markdown",
   "id": "4988aad0-987b-4b0a-88b8-23493055ca60",
   "metadata": {},
   "source": [
    "# Game Model"
   ]
  },
  {
   "cell_type": "code",
   "execution_count": null,
   "id": "b5f940cf-bdc7-4eb4-b67d-b126609b5d2a",
   "metadata": {},
   "outputs": [],
   "source": [
    "class CanyonGym(Env): \n",
    "    def __init__(self, render_mode = 'human'):\n",
    "        super().__init__()\n",
    "        # Specify action space and observation space \n",
    "        self.render_mode = render_mode\n",
    "        self.observation_space = Box(low=0.0, high=1.0, shape=(10, 64,), dtype=np.float16)\n",
    "        self.action_space = Discrete(2)\n",
    "\n",
    "\n",
    "        # Startup and instance of the game \n",
    "        self.game = cannongame.GameInstance('Canyon game', cannongame.GAME_MODE_EXT_ACTION, render_mode)\n",
    "    \n",
    "    def reset(self, seed = 0):\n",
    "        super().reset(seed=seed)\n",
    "        \n",
    "        # Return the first frame \n",
    "        obs = self.game.reset(seed)\n",
    "        self.LastDA = 0\n",
    "        self.LastMA = 0\n",
    "        self.LastMB = 0\n",
    "\n",
    "        info = {}\n",
    "\n",
    "        info['DestroyedAircrafts'] = 0\n",
    "        info['MissedAircrafts'] = 0\n",
    "        info['MissedBullets'] = 0\n",
    "        \n",
    "        return obs, info\n",
    "    \n",
    "    def step(self, action): \n",
    "        # Take a step \n",
    "        obs, done, trimmed, info = self.game.step(action)\n",
    "        \n",
    "        \n",
    "        # Reshape the reward function\n",
    "        reward = (info['DestroyedAircrafts'] - self.LastDA)*(10)\n",
    "        reward += (info['MissedAircrafts'] - self.LastMA)*(0)\n",
    "        reward += (info['MissedBullets'] - self.LastMB)*(-9)\n",
    "\n",
    "        self.LastDA = info['DestroyedAircrafts']\n",
    "        self.LastMA = info['MissedAircrafts']\n",
    "        self.LastMB = info['MissedBullets']\n",
    "        \n",
    "        return obs, reward, done, trimmed, info\n",
    "    \n",
    "    def render(self, *args, **kwargs):\n",
    "        self.game.render()\n",
    "        \n",
    "    def close(self):\n",
    "        self.game.close()"
   ]
  },
  {
   "cell_type": "markdown",
   "id": "769373d3-c0f0-4f66-8357-11e133a3b204",
   "metadata": {},
   "source": [
    "# Test Model"
   ]
  },
  {
   "cell_type": "code",
   "execution_count": null,
   "id": "4e78b78f-a8f7-41fa-8a1b-3edece8e2ee1",
   "metadata": {},
   "outputs": [],
   "source": [
    "env = CanyonGym('human')\n",
    "env = Monitor(env, LOG_DIR)\n",
    "#env = DummyVecEnv([lambda: env])\n",
    "#env = VecFrameStack(env, 4, channels_order='last')\n",
    "model = DQN.load(os.path.join(OPT_DIR, 'best_model_1000000.zip'))\n",
    "mean_reward, _ = evaluate_policy(model, env, render=True, n_eval_episodes=5)\n",
    "env.close()"
   ]
  },
  {
   "cell_type": "markdown",
   "id": "4ea69fc5-f26f-4db0-a6e2-1b0a727daa5e",
   "metadata": {},
   "source": [
    "# Callback Training"
   ]
  },
  {
   "cell_type": "code",
   "execution_count": null,
   "id": "c5f69a00-6e4a-4ae6-af83-da1d9bd2287e",
   "metadata": {},
   "outputs": [],
   "source": [
    "class TrainAndLoggingCallback(BaseCallback):\n",
    "\n",
    "    def __init__(self, check_freq, save_path, verbose=1):\n",
    "        super(TrainAndLoggingCallback, self).__init__(verbose)\n",
    "        self.check_freq = check_freq\n",
    "        self.save_path = save_path\n",
    "\n",
    "    def _init_callback(self):\n",
    "        if self.save_path is not None:\n",
    "            os.makedirs(self.save_path, exist_ok=True)\n",
    "\n",
    "    def _on_step(self):\n",
    "        if self.n_calls % self.check_freq == 0:\n",
    "            model_path = os.path.join(self.save_path, 'best_model_{}'.format(self.n_calls))\n",
    "            self.model.save(model_path)\n",
    "\n",
    "        return True\n",
    "\n",
    "\n",
    "callback = TrainAndLoggingCallback(check_freq=20000, save_path=OPT_DIR)"
   ]
  },
  {
   "cell_type": "code",
   "execution_count": null,
   "id": "6d6341e9-b766-406b-9d2c-0d2a6de37978",
   "metadata": {},
   "outputs": [],
   "source": [
    "# Create environment \n",
    "env = CanyonGym('ai')\n",
    "env = Monitor(env, LOG_DIR)\n",
    "#env = DummyVecEnv([lambda: env])\n",
    "#env = VecFrameStack(env, 4, channels_order='last')\n",
    "\n",
    "# Create algo \n",
    "model = DQN('MlpPolicy', env, tensorboard_log=LOG_DIR, learning_rate=0.0001, train_freq=128, batch_size=128)\n",
    "model.learn(total_timesteps=1000000, callback=callback)\n",
    "env.close()"
   ]
  },
  {
   "cell_type": "code",
   "execution_count": null,
   "id": "2b212ba5-7788-4856-8571-b126db562719",
   "metadata": {},
   "outputs": [],
   "source": []
  },
  {
   "cell_type": "code",
   "execution_count": null,
   "id": "de0849e2-ea3c-4120-bd25-cb7d60ba92d0",
   "metadata": {},
   "outputs": [],
   "source": []
  }
 ],
 "metadata": {
  "kernelspec": {
   "display_name": "Python 3 (ipykernel)",
   "language": "python",
   "name": "python3"
  },
  "language_info": {
   "codemirror_mode": {
    "name": "ipython",
    "version": 3
   },
   "file_extension": ".py",
   "mimetype": "text/x-python",
   "name": "python",
   "nbconvert_exporter": "python",
   "pygments_lexer": "ipython3",
   "version": "3.10.7"
  }
 },
 "nbformat": 4,
 "nbformat_minor": 5
}
